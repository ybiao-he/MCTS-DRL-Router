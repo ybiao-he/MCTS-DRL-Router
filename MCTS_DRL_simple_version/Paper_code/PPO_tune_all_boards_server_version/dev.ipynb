{
 "cells": [
  {
   "cell_type": "code",
   "execution_count": 22,
   "metadata": {},
   "outputs": [],
   "source": [
    "# generate a board_id server csv file\n",
    "import numpy as np\n",
    "import csv\n",
    "\n",
    "# read raw server file\n",
    "servers = []\n",
    "with open('servers.txt') as f:\n",
    "    lines = f.readlines()\n",
    "for line in lines:\n",
    "    l = line.rstrip().split('\\t')[6].split(' ')[-1]\n",
    "    servers.append(l)\n",
    "\n",
    "# read board_id file\n",
    "board_ids = []\n",
    "with open('select_boards_ids.csv', newline='') as csvfile:\n",
    "    spamreader = csv.reader(csvfile, delimiter=' ', quotechar='|')\n",
    "    for row in spamreader:\n",
    "        board_ids.append(row[0])\n",
    "\n",
    "# generate a board-server file\n",
    "with open('id_server.csv', 'w', newline='') as csvfile:\n",
    "    spamwriter = csv.writer(csvfile, delimiter=',',\n",
    "                            quotechar='|', quoting=csv.QUOTE_MINIMAL)\n",
    "    for i in range(50):\n",
    "        spamwriter.writerow([board_ids[i]] + [servers[i]])\n"
   ]
  },
  {
   "cell_type": "code",
   "execution_count": null,
   "metadata": {},
   "outputs": [],
   "source": []
  }
 ],
 "metadata": {
  "kernelspec": {
   "display_name": "Python 3",
   "language": "python",
   "name": "python3"
  },
  "language_info": {
   "codemirror_mode": {
    "name": "ipython",
    "version": 3
   },
   "file_extension": ".py",
   "mimetype": "text/x-python",
   "name": "python",
   "nbconvert_exporter": "python",
   "pygments_lexer": "ipython3",
   "version": "3.6.9"
  }
 },
 "nbformat": 4,
 "nbformat_minor": 5
}